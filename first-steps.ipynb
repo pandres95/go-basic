{
  "cells": [],
  "metadata": {
    "kernel_info": {
      "name": "gophernotes"
    },
    "language_info": {
      "name": "go",
      "version": "go1.11",
      "mimetype": "",
      "file_extension": ".go",
      "pygments_lexer": "",
      "codemirror_mode": "",
      "nbconvert_exporter": ""
    },
    "kernelspec": {
      "name": "gophernotes",
      "language": "go",
      "display_name": "Go"
    },
    "nteract": {
      "version": "0.11.7"
    }
  },
  "nbformat": 4,
  "nbformat_minor": 4
}