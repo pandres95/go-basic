{
  "cells": [
    {
      "cell_type": "markdown",
      "source": [
        "# Go\n",
        "\n",
        "## What is _Go_?\n",
        "\n",
        "- Programming Language.\n",
        "- Multiplatform (Windows, Linux, macOS, …).\n",
        "- Compiled, Imperative.\n",
        "- C-like syntax.\n",
        "- Static typing.\n",
        "- Some interpreted languages features.\n",
        "\n",
        "## Why _Go_?\n",
        "\n",
        "- Easy to learn.\n",
        "- \\[High\\] Speed of execution.\n",
        "- Concurrent.\n",
        "- Standard libraries for _net/http_, _net/websocket_.\n",
        "- _On-the-box_ linting.\n",
        "- Ease of deployment.\n",
        "\n",
        "## Who use _Go_?\n",
        "\n",
        "- Google\n",
        "- Docker\n",
        "- Cannonical\n",
        "- Heroku\n",
        "- CloudFlare\n",
        "- Platzi\n",
        "- …"
      ],
      "metadata": {}
    },
    {
      "cell_type": "markdown",
      "source": [
        "## Installing Go\n",
        "\n",
        "### On Linux\n",
        "\n",
        "Download from [Golang downloads](https://golang.org/dl):\n",
        "\n",
        "1. Download latest version according to architecture _(386, amd64, armv7, …)_. Ex. `go1.10.linux-amd64.tar.gz`.\n",
        "2. Install using `sudo` or under `root`.\n",
        "    - `tar -C /usr/local -xzf go1.10.linux-amd64.tar.gz`\n",
        "3. Add binary folder to `/etc/profile` or `$HOME/.profile`\n",
        "    - `export PATH=$PATH:/usr/local/go/bin`\n",
        "    \n",
        "#### On Ubuntu\n",
        "\n",
        "Run in terminal:\n",
        "\n",
        "```bash\n",
        "sudo add-apt-repository ppa:gophers/archive\n",
        "sudo apt-get update\n",
        "sudo apt install -y golang-1.10-go\n",
        "```"
      ],
      "metadata": {}
    },
    {
      "cell_type": "markdown",
      "source": [
        "### On MacOS\n",
        "\n",
        "1. Go to [downloads](https://golang.org/dl) page.\n",
        "2. Download and run _\"Apple OS X\"_ (pkg) installer.\n",
        "3. Follow instructions.\n",
        "4. Run on Terminal."
      ],
      "metadata": {}
    },
    {
      "cell_type": "markdown",
      "source": [
        "### On Windows\n",
        "\n",
        "1. Go to [downloads](https://golang.org/dl) page.\n",
        "2. Download and run _Microsoft Windows_ (msi) installer.\n",
        "3. Follow instructions.\n",
        "4. Run on Powershell. "
      ],
      "metadata": {}
    }
  ],
  "metadata": {
    "kernel_info": {
      "name": "gophernotes"
    },
    "language_info": {
      "name": "go",
      "version": "go1.11",
      "mimetype": "",
      "file_extension": ".go",
      "pygments_lexer": "",
      "codemirror_mode": "",
      "nbconvert_exporter": ""
    },
    "kernelspec": {
      "name": "gophernotes",
      "language": "go",
      "display_name": "Go"
    },
    "nteract": {
      "version": "0.11.7"
    }
  },
  "nbformat": 4,
  "nbformat_minor": 4
}